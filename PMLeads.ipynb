{
 "cells": [
  {
   "cell_type": "code",
   "execution_count": 1,
   "id": "4881a889",
   "metadata": {},
   "outputs": [],
   "source": [
    "import numpy as np\n",
    "import pandas as pd"
   ]
  },
  {
   "cell_type": "code",
   "execution_count": 2,
   "id": "82f613d2",
   "metadata": {},
   "outputs": [
    {
     "ename": "UnicodeDecodeError",
     "evalue": "'utf-8' codec can't decode bytes in position 11996-11997: invalid continuation byte",
     "output_type": "error",
     "traceback": [
      "\u001b[31m---------------------------------------------------------------------------\u001b[39m",
      "\u001b[31mUnicodeDecodeError\u001b[39m                        Traceback (most recent call last)",
      "\u001b[36mCell\u001b[39m\u001b[36m \u001b[39m\u001b[32mIn[2]\u001b[39m\u001b[32m, line 1\u001b[39m\n\u001b[32m----> \u001b[39m\u001b[32m1\u001b[39m df = \u001b[43mpd\u001b[49m\u001b[43m.\u001b[49m\u001b[43mread_csv\u001b[49m\u001b[43m(\u001b[49m\u001b[33;43m'\u001b[39;49m\u001b[33;43mPerformance Marketing leads.csv\u001b[39;49m\u001b[33;43m'\u001b[39;49m\u001b[43m)\u001b[49m\n",
      "\u001b[36mFile \u001b[39m\u001b[32mc:\\Users\\mehta\\AppData\\Local\\Programs\\Python\\Python313\\Lib\\site-packages\\pandas\\io\\parsers\\readers.py:1026\u001b[39m, in \u001b[36mread_csv\u001b[39m\u001b[34m(filepath_or_buffer, sep, delimiter, header, names, index_col, usecols, dtype, engine, converters, true_values, false_values, skipinitialspace, skiprows, skipfooter, nrows, na_values, keep_default_na, na_filter, verbose, skip_blank_lines, parse_dates, infer_datetime_format, keep_date_col, date_parser, date_format, dayfirst, cache_dates, iterator, chunksize, compression, thousands, decimal, lineterminator, quotechar, quoting, doublequote, escapechar, comment, encoding, encoding_errors, dialect, on_bad_lines, delim_whitespace, low_memory, memory_map, float_precision, storage_options, dtype_backend)\u001b[39m\n\u001b[32m   1013\u001b[39m kwds_defaults = _refine_defaults_read(\n\u001b[32m   1014\u001b[39m     dialect,\n\u001b[32m   1015\u001b[39m     delimiter,\n\u001b[32m   (...)\u001b[39m\u001b[32m   1022\u001b[39m     dtype_backend=dtype_backend,\n\u001b[32m   1023\u001b[39m )\n\u001b[32m   1024\u001b[39m kwds.update(kwds_defaults)\n\u001b[32m-> \u001b[39m\u001b[32m1026\u001b[39m \u001b[38;5;28;01mreturn\u001b[39;00m \u001b[43m_read\u001b[49m\u001b[43m(\u001b[49m\u001b[43mfilepath_or_buffer\u001b[49m\u001b[43m,\u001b[49m\u001b[43m \u001b[49m\u001b[43mkwds\u001b[49m\u001b[43m)\u001b[49m\n",
      "\u001b[36mFile \u001b[39m\u001b[32mc:\\Users\\mehta\\AppData\\Local\\Programs\\Python\\Python313\\Lib\\site-packages\\pandas\\io\\parsers\\readers.py:620\u001b[39m, in \u001b[36m_read\u001b[39m\u001b[34m(filepath_or_buffer, kwds)\u001b[39m\n\u001b[32m    617\u001b[39m _validate_names(kwds.get(\u001b[33m\"\u001b[39m\u001b[33mnames\u001b[39m\u001b[33m\"\u001b[39m, \u001b[38;5;28;01mNone\u001b[39;00m))\n\u001b[32m    619\u001b[39m \u001b[38;5;66;03m# Create the parser.\u001b[39;00m\n\u001b[32m--> \u001b[39m\u001b[32m620\u001b[39m parser = \u001b[43mTextFileReader\u001b[49m\u001b[43m(\u001b[49m\u001b[43mfilepath_or_buffer\u001b[49m\u001b[43m,\u001b[49m\u001b[43m \u001b[49m\u001b[43m*\u001b[49m\u001b[43m*\u001b[49m\u001b[43mkwds\u001b[49m\u001b[43m)\u001b[49m\n\u001b[32m    622\u001b[39m \u001b[38;5;28;01mif\u001b[39;00m chunksize \u001b[38;5;129;01mor\u001b[39;00m iterator:\n\u001b[32m    623\u001b[39m     \u001b[38;5;28;01mreturn\u001b[39;00m parser\n",
      "\u001b[36mFile \u001b[39m\u001b[32mc:\\Users\\mehta\\AppData\\Local\\Programs\\Python\\Python313\\Lib\\site-packages\\pandas\\io\\parsers\\readers.py:1620\u001b[39m, in \u001b[36mTextFileReader.__init__\u001b[39m\u001b[34m(self, f, engine, **kwds)\u001b[39m\n\u001b[32m   1617\u001b[39m     \u001b[38;5;28mself\u001b[39m.options[\u001b[33m\"\u001b[39m\u001b[33mhas_index_names\u001b[39m\u001b[33m\"\u001b[39m] = kwds[\u001b[33m\"\u001b[39m\u001b[33mhas_index_names\u001b[39m\u001b[33m\"\u001b[39m]\n\u001b[32m   1619\u001b[39m \u001b[38;5;28mself\u001b[39m.handles: IOHandles | \u001b[38;5;28;01mNone\u001b[39;00m = \u001b[38;5;28;01mNone\u001b[39;00m\n\u001b[32m-> \u001b[39m\u001b[32m1620\u001b[39m \u001b[38;5;28mself\u001b[39m._engine = \u001b[38;5;28;43mself\u001b[39;49m\u001b[43m.\u001b[49m\u001b[43m_make_engine\u001b[49m\u001b[43m(\u001b[49m\u001b[43mf\u001b[49m\u001b[43m,\u001b[49m\u001b[43m \u001b[49m\u001b[38;5;28;43mself\u001b[39;49m\u001b[43m.\u001b[49m\u001b[43mengine\u001b[49m\u001b[43m)\u001b[49m\n",
      "\u001b[36mFile \u001b[39m\u001b[32mc:\\Users\\mehta\\AppData\\Local\\Programs\\Python\\Python313\\Lib\\site-packages\\pandas\\io\\parsers\\readers.py:1898\u001b[39m, in \u001b[36mTextFileReader._make_engine\u001b[39m\u001b[34m(self, f, engine)\u001b[39m\n\u001b[32m   1895\u001b[39m     \u001b[38;5;28;01mraise\u001b[39;00m \u001b[38;5;167;01mValueError\u001b[39;00m(msg)\n\u001b[32m   1897\u001b[39m \u001b[38;5;28;01mtry\u001b[39;00m:\n\u001b[32m-> \u001b[39m\u001b[32m1898\u001b[39m     \u001b[38;5;28;01mreturn\u001b[39;00m \u001b[43mmapping\u001b[49m\u001b[43m[\u001b[49m\u001b[43mengine\u001b[49m\u001b[43m]\u001b[49m\u001b[43m(\u001b[49m\u001b[43mf\u001b[49m\u001b[43m,\u001b[49m\u001b[43m \u001b[49m\u001b[43m*\u001b[49m\u001b[43m*\u001b[49m\u001b[38;5;28;43mself\u001b[39;49m\u001b[43m.\u001b[49m\u001b[43moptions\u001b[49m\u001b[43m)\u001b[49m\n\u001b[32m   1899\u001b[39m \u001b[38;5;28;01mexcept\u001b[39;00m \u001b[38;5;167;01mException\u001b[39;00m:\n\u001b[32m   1900\u001b[39m     \u001b[38;5;28;01mif\u001b[39;00m \u001b[38;5;28mself\u001b[39m.handles \u001b[38;5;129;01mis\u001b[39;00m \u001b[38;5;129;01mnot\u001b[39;00m \u001b[38;5;28;01mNone\u001b[39;00m:\n",
      "\u001b[36mFile \u001b[39m\u001b[32mc:\\Users\\mehta\\AppData\\Local\\Programs\\Python\\Python313\\Lib\\site-packages\\pandas\\io\\parsers\\c_parser_wrapper.py:93\u001b[39m, in \u001b[36mCParserWrapper.__init__\u001b[39m\u001b[34m(self, src, **kwds)\u001b[39m\n\u001b[32m     90\u001b[39m \u001b[38;5;28;01mif\u001b[39;00m kwds[\u001b[33m\"\u001b[39m\u001b[33mdtype_backend\u001b[39m\u001b[33m\"\u001b[39m] == \u001b[33m\"\u001b[39m\u001b[33mpyarrow\u001b[39m\u001b[33m\"\u001b[39m:\n\u001b[32m     91\u001b[39m     \u001b[38;5;66;03m# Fail here loudly instead of in cython after reading\u001b[39;00m\n\u001b[32m     92\u001b[39m     import_optional_dependency(\u001b[33m\"\u001b[39m\u001b[33mpyarrow\u001b[39m\u001b[33m\"\u001b[39m)\n\u001b[32m---> \u001b[39m\u001b[32m93\u001b[39m \u001b[38;5;28mself\u001b[39m._reader = \u001b[43mparsers\u001b[49m\u001b[43m.\u001b[49m\u001b[43mTextReader\u001b[49m\u001b[43m(\u001b[49m\u001b[43msrc\u001b[49m\u001b[43m,\u001b[49m\u001b[43m \u001b[49m\u001b[43m*\u001b[49m\u001b[43m*\u001b[49m\u001b[43mkwds\u001b[49m\u001b[43m)\u001b[49m\n\u001b[32m     95\u001b[39m \u001b[38;5;28mself\u001b[39m.unnamed_cols = \u001b[38;5;28mself\u001b[39m._reader.unnamed_cols\n\u001b[32m     97\u001b[39m \u001b[38;5;66;03m# error: Cannot determine type of 'names'\u001b[39;00m\n",
      "\u001b[36mFile \u001b[39m\u001b[32mpandas/_libs/parsers.pyx:574\u001b[39m, in \u001b[36mpandas._libs.parsers.TextReader.__cinit__\u001b[39m\u001b[34m()\u001b[39m\n",
      "\u001b[36mFile \u001b[39m\u001b[32mpandas/_libs/parsers.pyx:663\u001b[39m, in \u001b[36mpandas._libs.parsers.TextReader._get_header\u001b[39m\u001b[34m()\u001b[39m\n",
      "\u001b[36mFile \u001b[39m\u001b[32mpandas/_libs/parsers.pyx:874\u001b[39m, in \u001b[36mpandas._libs.parsers.TextReader._tokenize_rows\u001b[39m\u001b[34m()\u001b[39m\n",
      "\u001b[36mFile \u001b[39m\u001b[32mpandas/_libs/parsers.pyx:891\u001b[39m, in \u001b[36mpandas._libs.parsers.TextReader._check_tokenize_status\u001b[39m\u001b[34m()\u001b[39m\n",
      "\u001b[36mFile \u001b[39m\u001b[32mpandas/_libs/parsers.pyx:2053\u001b[39m, in \u001b[36mpandas._libs.parsers.raise_parser_error\u001b[39m\u001b[34m()\u001b[39m\n",
      "\u001b[36mFile \u001b[39m\u001b[32m<frozen codecs>:325\u001b[39m, in \u001b[36mdecode\u001b[39m\u001b[34m(self, input, final)\u001b[39m\n",
      "\u001b[31mUnicodeDecodeError\u001b[39m: 'utf-8' codec can't decode bytes in position 11996-11997: invalid continuation byte"
     ]
    }
   ],
   "source": [
    "df = pd.read_csv('Performance Marketing leads.csv')"
   ]
  },
  {
   "cell_type": "code",
   "execution_count": 4,
   "id": "5877d45d",
   "metadata": {},
   "outputs": [
    {
     "name": "stdout",
     "output_type": "stream",
     "text": [
      "{'encoding': 'MacRoman', 'confidence': 0.72951852353202, 'language': ''}\n"
     ]
    }
   ],
   "source": [
    "import chardet\n",
    "\n",
    "with open(\"Performance Marketing leads.csv\", \"rb\") as f:\n",
    "    result = chardet.detect(f.read(6000000))  \n",
    "    print(result)"
   ]
  },
  {
   "cell_type": "code",
   "execution_count": 5,
   "id": "2c887dc1",
   "metadata": {},
   "outputs": [
    {
     "name": "stderr",
     "output_type": "stream",
     "text": [
      "C:\\Users\\mehta\\AppData\\Local\\Temp\\ipykernel_19244\\614274268.py:1: DtypeWarning: Columns (9) have mixed types. Specify dtype option on import or set low_memory=False.\n",
      "  df = pd.read_csv('Performance Marketing leads.csv', encoding=result['encoding'])\n"
     ]
    }
   ],
   "source": [
    "df = pd.read_csv('Performance Marketing leads.csv', encoding=result['encoding'])"
   ]
  },
  {
   "cell_type": "code",
   "execution_count": 6,
   "id": "e863fad5",
   "metadata": {},
   "outputs": [],
   "source": [
    "df.to_csv('NewPMLeads.csv', index=False, encoding='utf-8-sig')"
   ]
  },
  {
   "cell_type": "code",
   "execution_count": 7,
   "id": "95043dc7",
   "metadata": {},
   "outputs": [
    {
     "name": "stderr",
     "output_type": "stream",
     "text": [
      "C:\\Users\\mehta\\AppData\\Local\\Temp\\ipykernel_19244\\3472262782.py:1: DtypeWarning: Columns (9) have mixed types. Specify dtype option on import or set low_memory=False.\n",
      "  df  = pd.read_csv('NewPMLeads.csv')\n"
     ]
    }
   ],
   "source": [
    "df  = pd.read_csv('NewPMLeads.csv')"
   ]
  },
  {
   "cell_type": "code",
   "execution_count": 8,
   "id": "59ce462e",
   "metadata": {},
   "outputs": [
    {
     "data": {
      "text/html": [
       "<div>\n",
       "<style scoped>\n",
       "    .dataframe tbody tr th:only-of-type {\n",
       "        vertical-align: middle;\n",
       "    }\n",
       "\n",
       "    .dataframe tbody tr th {\n",
       "        vertical-align: top;\n",
       "    }\n",
       "\n",
       "    .dataframe thead th {\n",
       "        text-align: right;\n",
       "    }\n",
       "</style>\n",
       "<table border=\"1\" class=\"dataframe\">\n",
       "  <thead>\n",
       "    <tr style=\"text-align: right;\">\n",
       "      <th></th>\n",
       "      <th>lead_id</th>\n",
       "      <th>created_time</th>\n",
       "      <th>ad_id</th>\n",
       "      <th>campaign_id</th>\n",
       "      <th>form_id</th>\n",
       "      <th>form_name</th>\n",
       "      <th>platform</th>\n",
       "      <th>name</th>\n",
       "      <th>email1</th>\n",
       "      <th>phone1</th>\n",
       "      <th>...</th>\n",
       "      <th>ug_or_pg_qualification</th>\n",
       "      <th>work_experience_1</th>\n",
       "      <th>mathematics_score</th>\n",
       "      <th>owner</th>\n",
       "      <th>city</th>\n",
       "      <th>opportunity_status</th>\n",
       "      <th>opportunity_mapped</th>\n",
       "      <th>utm_term</th>\n",
       "      <th>status</th>\n",
       "      <th>max_call_duration</th>\n",
       "    </tr>\n",
       "  </thead>\n",
       "  <tbody>\n",
       "    <tr>\n",
       "      <th>0</th>\n",
       "      <td>l:895118632787497</td>\n",
       "      <td>29-11-2024 12:07</td>\n",
       "      <td>1.202141e+17</td>\n",
       "      <td>1.202141e+17</td>\n",
       "      <td>f:946834734166968</td>\n",
       "      <td>MBATech_C2_Program-new_Meta_110224</td>\n",
       "      <td>ig</td>\n",
       "      <td>Gyan Sagar Singh</td>\n",
       "      <td>gyansagarsingh@gmail.com</td>\n",
       "      <td>p:11</td>\n",
       "      <td>...</td>\n",
       "      <td>NaN</td>\n",
       "      <td>NaN</td>\n",
       "      <td>NaN</td>\n",
       "      <td>NaN</td>\n",
       "      <td>NaN</td>\n",
       "      <td>NaN</td>\n",
       "      <td>NaN</td>\n",
       "      <td>NaN</td>\n",
       "      <td>NaN</td>\n",
       "      <td>NaN</td>\n",
       "    </tr>\n",
       "    <tr>\n",
       "      <th>1</th>\n",
       "      <td>2fdc474d-31fd-4cb3-b5e4-9c03b4841499</td>\n",
       "      <td>02-01-2025 22:04</td>\n",
       "      <td>7.213225e+11</td>\n",
       "      <td>2.191242e+10</td>\n",
       "      <td>NaN</td>\n",
       "      <td>NaN</td>\n",
       "      <td>GoogleAds</td>\n",
       "      <td>Deep Kumar</td>\n",
       "      <td>deepkumar@gmail.com</td>\n",
       "      <td>0</td>\n",
       "      <td>...</td>\n",
       "      <td>NaN</td>\n",
       "      <td>NaN</td>\n",
       "      <td>NaN</td>\n",
       "      <td>Payal Gupta</td>\n",
       "      <td>NaN</td>\n",
       "      <td>NaN</td>\n",
       "      <td>Mapped</td>\n",
       "      <td>mba degree programs</td>\n",
       "      <td>Lost</td>\n",
       "      <td>NaN</td>\n",
       "    </tr>\n",
       "    <tr>\n",
       "      <th>2</th>\n",
       "      <td>c3c3960a-3c19-4824-95db-bc6a5df5db86</td>\n",
       "      <td>22-12-2024 12:17</td>\n",
       "      <td>7.213225e+11</td>\n",
       "      <td>2.191242e+10</td>\n",
       "      <td>NaN</td>\n",
       "      <td>NaN</td>\n",
       "      <td>GoogleAds</td>\n",
       "      <td>Sagar Mr</td>\n",
       "      <td>sagarmr@gmail.com</td>\n",
       "      <td>1918755051</td>\n",
       "      <td>...</td>\n",
       "      <td>NaN</td>\n",
       "      <td>NaN</td>\n",
       "      <td>NaN</td>\n",
       "      <td>Akshay Manhas</td>\n",
       "      <td>NaN</td>\n",
       "      <td>NaN</td>\n",
       "      <td>Mapped</td>\n",
       "      <td>mba degree programs</td>\n",
       "      <td>Lost</td>\n",
       "      <td>NaN</td>\n",
       "    </tr>\n",
       "    <tr>\n",
       "      <th>3</th>\n",
       "      <td>35275acf-6604-4e85-8414-5a33d3f171e5</td>\n",
       "      <td>10-01-2025 22:28</td>\n",
       "      <td>7.213225e+11</td>\n",
       "      <td>2.191242e+10</td>\n",
       "      <td>NaN</td>\n",
       "      <td>NaN</td>\n",
       "      <td>GoogleAds</td>\n",
       "      <td>ray jyoit ray jyoit</td>\n",
       "      <td>rayjyoitrayjyoit@gmail.com</td>\n",
       "      <td>1191911911</td>\n",
       "      <td>...</td>\n",
       "      <td>NaN</td>\n",
       "      <td>NaN</td>\n",
       "      <td>NaN</td>\n",
       "      <td>Zoya Zamal</td>\n",
       "      <td>NaN</td>\n",
       "      <td>NaN</td>\n",
       "      <td>Mapped</td>\n",
       "      <td>NaN</td>\n",
       "      <td>Lost</td>\n",
       "      <td>NaN</td>\n",
       "    </tr>\n",
       "    <tr>\n",
       "      <th>4</th>\n",
       "      <td>bf299df5-fe65-4b4f-b906-1a318b94ea4b</td>\n",
       "      <td>03-01-2025 22:40</td>\n",
       "      <td>7.213225e+11</td>\n",
       "      <td>2.191242e+10</td>\n",
       "      <td>NaN</td>\n",
       "      <td>NaN</td>\n",
       "      <td>GoogleAds</td>\n",
       "      <td>Love Kesh</td>\n",
       "      <td>lovekesh@gmail.com</td>\n",
       "      <td>1917087969</td>\n",
       "      <td>...</td>\n",
       "      <td>NaN</td>\n",
       "      <td>NaN</td>\n",
       "      <td>NaN</td>\n",
       "      <td>Zoya Zamal</td>\n",
       "      <td>NaN</td>\n",
       "      <td>NaN</td>\n",
       "      <td>Mapped</td>\n",
       "      <td>mba degree programs</td>\n",
       "      <td>Lost</td>\n",
       "      <td>NaN</td>\n",
       "    </tr>\n",
       "    <tr>\n",
       "      <th>...</th>\n",
       "      <td>...</td>\n",
       "      <td>...</td>\n",
       "      <td>...</td>\n",
       "      <td>...</td>\n",
       "      <td>...</td>\n",
       "      <td>...</td>\n",
       "      <td>...</td>\n",
       "      <td>...</td>\n",
       "      <td>...</td>\n",
       "      <td>...</td>\n",
       "      <td>...</td>\n",
       "      <td>...</td>\n",
       "      <td>...</td>\n",
       "      <td>...</td>\n",
       "      <td>...</td>\n",
       "      <td>...</td>\n",
       "      <td>...</td>\n",
       "      <td>...</td>\n",
       "      <td>...</td>\n",
       "      <td>...</td>\n",
       "      <td>...</td>\n",
       "    </tr>\n",
       "    <tr>\n",
       "      <th>20060</th>\n",
       "      <td>1dad7269-f65a-46fd-a76d-8600bf65c004-6</td>\n",
       "      <td>02-01-2025 14:15</td>\n",
       "      <td>5.244873e+08</td>\n",
       "      <td>3.408116e+08</td>\n",
       "      <td>10091086</td>\n",
       "      <td>MBATech_C2_Program_LinkedIn_230924</td>\n",
       "      <td>LinkedIn</td>\n",
       "      <td>Devavrat Sharma</td>\n",
       "      <td>devavratsharma@gmail.com</td>\n",
       "      <td>9001750197</td>\n",
       "      <td>...</td>\n",
       "      <td>NaN</td>\n",
       "      <td>NaN</td>\n",
       "      <td>NaN</td>\n",
       "      <td>Vinti</td>\n",
       "      <td>Jaipur</td>\n",
       "      <td>NaN</td>\n",
       "      <td>Mapped</td>\n",
       "      <td>NaN</td>\n",
       "      <td>Open</td>\n",
       "      <td>23.0</td>\n",
       "    </tr>\n",
       "    <tr>\n",
       "      <th>20061</th>\n",
       "      <td>l:579525214711938</td>\n",
       "      <td>02-01-2025 19:48</td>\n",
       "      <td>1.202124e+17</td>\n",
       "      <td>1.202124e+17</td>\n",
       "      <td>f:934293608524038</td>\n",
       "      <td>MBATech_C2_Program_Meta_200924</td>\n",
       "      <td>ig</td>\n",
       "      <td>Surendra Singh</td>\n",
       "      <td>surendrasingh@gmail.com</td>\n",
       "      <td>9917119585</td>\n",
       "      <td>...</td>\n",
       "      <td>NaN</td>\n",
       "      <td>NaN</td>\n",
       "      <td>NaN</td>\n",
       "      <td>Monalisa das</td>\n",
       "      <td>Meerut City</td>\n",
       "      <td>NaN</td>\n",
       "      <td>Mapped</td>\n",
       "      <td>NaN</td>\n",
       "      <td>Open</td>\n",
       "      <td>3.0</td>\n",
       "    </tr>\n",
       "    <tr>\n",
       "      <th>20062</th>\n",
       "      <td>l:1323141678713428</td>\n",
       "      <td>03-01-2025 13:55</td>\n",
       "      <td>1.202149e+17</td>\n",
       "      <td>1.202141e+17</td>\n",
       "      <td>f:946834734166968</td>\n",
       "      <td>MBATech_C2_Program-new_Meta_110224</td>\n",
       "      <td>ig</td>\n",
       "      <td>Poonam Jyotshi</td>\n",
       "      <td>poonamjyotshi@gmail.com</td>\n",
       "      <td>8690191769</td>\n",
       "      <td>...</td>\n",
       "      <td>NaN</td>\n",
       "      <td>NaN</td>\n",
       "      <td>NaN</td>\n",
       "      <td>Monalisa das</td>\n",
       "      <td>NaN</td>\n",
       "      <td>NaN</td>\n",
       "      <td>Mapped</td>\n",
       "      <td>NaN</td>\n",
       "      <td>Open</td>\n",
       "      <td>20.0</td>\n",
       "    </tr>\n",
       "    <tr>\n",
       "      <th>20063</th>\n",
       "      <td>l:1092199192404421</td>\n",
       "      <td>11-01-2025 15:35</td>\n",
       "      <td>1.202123e+17</td>\n",
       "      <td>1.202123e+17</td>\n",
       "      <td>f:934293608524038</td>\n",
       "      <td>MBATech_C2_Program_Meta_200924</td>\n",
       "      <td>ig</td>\n",
       "      <td>Lokesh Kumar</td>\n",
       "      <td>lokeshkumar@gmail.com</td>\n",
       "      <td>9871158611</td>\n",
       "      <td>...</td>\n",
       "      <td>NaN</td>\n",
       "      <td>NaN</td>\n",
       "      <td>NaN</td>\n",
       "      <td>Payal Gupta</td>\n",
       "      <td>Noida</td>\n",
       "      <td>NaN</td>\n",
       "      <td>Mapped</td>\n",
       "      <td>NaN</td>\n",
       "      <td>Open</td>\n",
       "      <td>54.0</td>\n",
       "    </tr>\n",
       "    <tr>\n",
       "      <th>20064</th>\n",
       "      <td>a86db647-d221-4d34-a9c7-e013258e6b6c-3</td>\n",
       "      <td>12-10-2024 02:09</td>\n",
       "      <td>5.245299e+08</td>\n",
       "      <td>3.407865e+08</td>\n",
       "      <td>10091086</td>\n",
       "      <td>MBATech_C2_Program_LinkedIn_230924</td>\n",
       "      <td>LinkedIn</td>\n",
       "      <td>Tarique Anwar</td>\n",
       "      <td>tariqueanwar@gmail.com</td>\n",
       "      <td>9861186161</td>\n",
       "      <td>...</td>\n",
       "      <td>NaN</td>\n",
       "      <td>NaN</td>\n",
       "      <td>NaN</td>\n",
       "      <td>Akshit Mittal</td>\n",
       "      <td>Ranchi</td>\n",
       "      <td>Not Interested</td>\n",
       "      <td>Mapped</td>\n",
       "      <td>NaN</td>\n",
       "      <td>Lost</td>\n",
       "      <td>28.0</td>\n",
       "    </tr>\n",
       "  </tbody>\n",
       "</table>\n",
       "<p>20065 rows × 44 columns</p>\n",
       "</div>"
      ],
      "text/plain": [
       "                                      lead_id      created_time         ad_id  \\\n",
       "0                           l:895118632787497  29-11-2024 12:07  1.202141e+17   \n",
       "1        2fdc474d-31fd-4cb3-b5e4-9c03b4841499  02-01-2025 22:04  7.213225e+11   \n",
       "2        c3c3960a-3c19-4824-95db-bc6a5df5db86  22-12-2024 12:17  7.213225e+11   \n",
       "3        35275acf-6604-4e85-8414-5a33d3f171e5  10-01-2025 22:28  7.213225e+11   \n",
       "4        bf299df5-fe65-4b4f-b906-1a318b94ea4b  03-01-2025 22:40  7.213225e+11   \n",
       "...                                       ...               ...           ...   \n",
       "20060  1dad7269-f65a-46fd-a76d-8600bf65c004-6  02-01-2025 14:15  5.244873e+08   \n",
       "20061                       l:579525214711938  02-01-2025 19:48  1.202124e+17   \n",
       "20062                      l:1323141678713428  03-01-2025 13:55  1.202149e+17   \n",
       "20063                      l:1092199192404421  11-01-2025 15:35  1.202123e+17   \n",
       "20064  a86db647-d221-4d34-a9c7-e013258e6b6c-3  12-10-2024 02:09  5.245299e+08   \n",
       "\n",
       "        campaign_id            form_id                           form_name  \\\n",
       "0      1.202141e+17  f:946834734166968  MBATech_C2_Program-new_Meta_110224   \n",
       "1      2.191242e+10                NaN                                 NaN   \n",
       "2      2.191242e+10                NaN                                 NaN   \n",
       "3      2.191242e+10                NaN                                 NaN   \n",
       "4      2.191242e+10                NaN                                 NaN   \n",
       "...             ...                ...                                 ...   \n",
       "20060  3.408116e+08           10091086  MBATech_C2_Program_LinkedIn_230924   \n",
       "20061  1.202124e+17  f:934293608524038      MBATech_C2_Program_Meta_200924   \n",
       "20062  1.202141e+17  f:946834734166968  MBATech_C2_Program-new_Meta_110224   \n",
       "20063  1.202123e+17  f:934293608524038      MBATech_C2_Program_Meta_200924   \n",
       "20064  3.407865e+08           10091086  MBATech_C2_Program_LinkedIn_230924   \n",
       "\n",
       "        platform                 name                      email1      phone1  \\\n",
       "0             ig     Gyan Sagar Singh    gyansagarsingh@gmail.com        p:11   \n",
       "1      GoogleAds           Deep Kumar         deepkumar@gmail.com           0   \n",
       "2      GoogleAds             Sagar Mr           sagarmr@gmail.com  1918755051   \n",
       "3      GoogleAds  ray jyoit ray jyoit  rayjyoitrayjyoit@gmail.com  1191911911   \n",
       "4      GoogleAds            Love Kesh          lovekesh@gmail.com  1917087969   \n",
       "...          ...                  ...                         ...         ...   \n",
       "20060   LinkedIn      Devavrat Sharma    devavratsharma@gmail.com  9001750197   \n",
       "20061         ig       Surendra Singh     surendrasingh@gmail.com  9917119585   \n",
       "20062         ig       Poonam Jyotshi     poonamjyotshi@gmail.com  8690191769   \n",
       "20063         ig         Lokesh Kumar       lokeshkumar@gmail.com  9871158611   \n",
       "20064   LinkedIn        Tarique Anwar      tariqueanwar@gmail.com  9861186161   \n",
       "\n",
       "       ... ug_or_pg_qualification work_experience_1 mathematics_score  \\\n",
       "0      ...                    NaN               NaN               NaN   \n",
       "1      ...                    NaN               NaN               NaN   \n",
       "2      ...                    NaN               NaN               NaN   \n",
       "3      ...                    NaN               NaN               NaN   \n",
       "4      ...                    NaN               NaN               NaN   \n",
       "...    ...                    ...               ...               ...   \n",
       "20060  ...                    NaN               NaN               NaN   \n",
       "20061  ...                    NaN               NaN               NaN   \n",
       "20062  ...                    NaN               NaN               NaN   \n",
       "20063  ...                    NaN               NaN               NaN   \n",
       "20064  ...                    NaN               NaN               NaN   \n",
       "\n",
       "               owner         city opportunity_status  opportunity_mapped  \\\n",
       "0                NaN          NaN                NaN                 NaN   \n",
       "1        Payal Gupta          NaN                NaN              Mapped   \n",
       "2      Akshay Manhas          NaN                NaN              Mapped   \n",
       "3         Zoya Zamal          NaN                NaN              Mapped   \n",
       "4         Zoya Zamal          NaN                NaN              Mapped   \n",
       "...              ...          ...                ...                 ...   \n",
       "20060          Vinti       Jaipur                NaN              Mapped   \n",
       "20061   Monalisa das  Meerut City                NaN              Mapped   \n",
       "20062   Monalisa das          NaN                NaN              Mapped   \n",
       "20063    Payal Gupta        Noida                NaN              Mapped   \n",
       "20064  Akshit Mittal       Ranchi     Not Interested              Mapped   \n",
       "\n",
       "                  utm_term status  max_call_duration  \n",
       "0                      NaN    NaN                NaN  \n",
       "1      mba degree programs   Lost                NaN  \n",
       "2      mba degree programs   Lost                NaN  \n",
       "3                      NaN   Lost                NaN  \n",
       "4      mba degree programs   Lost                NaN  \n",
       "...                    ...    ...                ...  \n",
       "20060                  NaN   Open               23.0  \n",
       "20061                  NaN   Open                3.0  \n",
       "20062                  NaN   Open               20.0  \n",
       "20063                  NaN   Open               54.0  \n",
       "20064                  NaN   Lost               28.0  \n",
       "\n",
       "[20065 rows x 44 columns]"
      ]
     },
     "execution_count": 8,
     "metadata": {},
     "output_type": "execute_result"
    }
   ],
   "source": [
    "df"
   ]
  },
  {
   "cell_type": "code",
   "execution_count": 9,
   "id": "67db618f",
   "metadata": {},
   "outputs": [
    {
     "name": "stdout",
     "output_type": "stream",
     "text": [
      "<class 'pandas.core.frame.DataFrame'>\n",
      "RangeIndex: 20065 entries, 0 to 20064\n",
      "Data columns (total 44 columns):\n",
      " #   Column                  Non-Null Count  Dtype  \n",
      "---  ------                  --------------  -----  \n",
      " 0   lead_id                 20065 non-null  object \n",
      " 1   created_time            20065 non-null  object \n",
      " 2   ad_id                   20030 non-null  float64\n",
      " 3   campaign_id             20030 non-null  float64\n",
      " 4   form_id                 19883 non-null  object \n",
      " 5   form_name               19883 non-null  object \n",
      " 6   platform                20064 non-null  object \n",
      " 7   name                    20065 non-null  object \n",
      " 8   email1                  20065 non-null  object \n",
      " 9   phone1                  20065 non-null  object \n",
      " 10  graduation_degree       20065 non-null  object \n",
      " 11  graduation_percentage   19892 non-null  object \n",
      " 12  work_experience         20065 non-null  object \n",
      " 13  upload_date             19883 non-null  object \n",
      " 14  column15                0 non-null      float64\n",
      " 15  contacted               17241 non-null  object \n",
      " 16  mapped                  0 non-null      float64\n",
      " 17  mapped2                 19190 non-null  object \n",
      " 18  lead_stage              19190 non-null  object \n",
      " 19  token_paid              57 non-null     float64\n",
      " 20  Unnamed: 20             0 non-null      float64\n",
      " 21  ad_set_name             0 non-null      float64\n",
      " 22  ad_set_id               17923 non-null  float64\n",
      " 23  first_call              17125 non-null  object \n",
      " 24  outbound_calls          0 non-null      float64\n",
      " 25  full_payment            0 non-null      float64\n",
      " 26  test_sent               0 non-null      float64\n",
      " 27  test_result             0 non-null      float64\n",
      " 28  candidate_id            2133 non-null   object \n",
      " 29  answered                17192 non-null  object \n",
      " 30  mapped_in               0 non-null      float64\n",
      " 31  lsq_created_date        19141 non-null  object \n",
      " 32  last_call_date          17250 non-null  object \n",
      " 33  new_cgpa                304 non-null    float64\n",
      " 34  ug_or_pg_qualification  291 non-null    object \n",
      " 35  work_experience_1       247 non-null    float64\n",
      " 36  mathematics_score       0 non-null      float64\n",
      " 37  owner                   19190 non-null  object \n",
      " 38  city                    10921 non-null  object \n",
      " 39  opportunity_status      6221 non-null   object \n",
      " 40  opportunity_mapped      19079 non-null  object \n",
      " 41  utm_term                146 non-null    object \n",
      " 42  status                  19053 non-null  object \n",
      " 43  max_call_duration       11615 non-null  float64\n",
      "dtypes: float64(17), object(27)\n",
      "memory usage: 6.7+ MB\n"
     ]
    }
   ],
   "source": [
    "df.info()"
   ]
  },
  {
   "cell_type": "code",
   "execution_count": null,
   "id": "0dca2e87",
   "metadata": {},
   "outputs": [],
   "source": [
    "dropped_col = ['column15','mapped','Unnamed: 20','ad_set_name','outbound_calls','full_payment',\n",
    "               'test_sent','test_result','mapped_in','mathematics_score']\n",
    "df.drop(columns=dropped_col, inplace=True)"
   ]
  },
  {
   "cell_type": "code",
   "execution_count": 15,
   "id": "f85d0d10",
   "metadata": {},
   "outputs": [],
   "source": [
    "date_cols = ['created_time','upload_date','lsq_created_date','last_call_date']\n",
    "for col in date_cols:\n",
    "    df[col] = pd.to_datetime(df[col], errors='coerce',dayfirst = True)"
   ]
  },
  {
   "cell_type": "code",
   "execution_count": 16,
   "id": "f5965f5d",
   "metadata": {},
   "outputs": [],
   "source": [
    "def clean_percentage(val):\n",
    "    if pd.isnull(val):\n",
    "        return None\n",
    "    val = str(val).strip().replace('%', '').replace('CGPA', '').replace('cgpa', '')\n",
    "    try:\n",
    "        return float(val)\n",
    "    except:\n",
    "        return None\n",
    "\n",
    "df['graduation_percentage'] = df['graduation_percentage'].apply(clean_percentage)"
   ]
  },
  {
   "cell_type": "code",
   "execution_count": 17,
   "id": "ba215d5b",
   "metadata": {},
   "outputs": [
    {
     "data": {
      "text/plain": [
       "np.int64(56)"
      ]
     },
     "execution_count": 17,
     "metadata": {},
     "output_type": "execute_result"
    }
   ],
   "source": [
    "df.duplicated(subset='lead_id').sum()"
   ]
  },
  {
   "cell_type": "code",
   "execution_count": 18,
   "id": "532ea4d9",
   "metadata": {},
   "outputs": [],
   "source": [
    "df.drop_duplicates(subset='lead_id', inplace=True)"
   ]
  },
  {
   "cell_type": "code",
   "execution_count": null,
   "id": "f964cabc",
   "metadata": {},
   "outputs": [
    {
     "data": {
      "text/plain": [
       "platform\n",
       "ig           15575\n",
       "fb            2331\n",
       "LinkedIn      1919\n",
       "GoogleAds      182\n",
       "an               1\n",
       "Name: count, dtype: int64"
      ]
     },
     "metadata": {},
     "output_type": "display_data"
    },
    {
     "data": {
      "text/plain": [
       "lead_stage\n",
       "Not Interested              5467\n",
       "Never Picked Up             4188\n",
       "Not Eligible                2676\n",
       "Did Not Enquired            2234\n",
       "Did Not Picked              2101\n",
       "Invalid                      921\n",
       "Call Back Later              527\n",
       "Wrong Number                 269\n",
       "Call Not Connected           258\n",
       "Warm                         177\n",
       "New Enquiry                   93\n",
       "Future Prospect               76\n",
       "Learner Drop                  37\n",
       "Dropped                       25\n",
       "Learner Enrolled              18\n",
       "Offer Letter Released         16\n",
       "Never Picked up               15\n",
       "Interview Cleared              8\n",
       "Invalid phone number           7\n",
       "Test Scheduled                 5\n",
       "Interview Scheduled            4\n",
       "Duplicate Lead                 3\n",
       "Test                           3\n",
       "Hot                            3\n",
       "Token Link Sent                2\n",
       "Cold                           1\n",
       "Fake                           1\n",
       "Waiting for Offer Letter       1\n",
       "Token paid                     1\n",
       "Name: count, dtype: int64"
      ]
     },
     "metadata": {},
     "output_type": "display_data"
    },
    {
     "data": {
      "text/plain": [
       "opportunity_status\n",
       "Not Interested              1796\n",
       "Never Picked Up             1075\n",
       "Not Eligible                 787\n",
       "Did Not Enquired             586\n",
       "Did Not Picked               572\n",
       "Call Back Later              390\n",
       "Warm                         357\n",
       "Invalid                      262\n",
       "New Enquiry                  205\n",
       "Call Not Connected            69\n",
       "Wrong Number                  64\n",
       "Dropped                       13\n",
       "Learner Drop                   9\n",
       "Future Prospect                8\n",
       "Learner Enrolled               4\n",
       "Interview Scheduled            4\n",
       "Test Scheduled                 4\n",
       "Interview Cleared              4\n",
       "Waiting for Offer Letter       3\n",
       "Offer Letter Released          2\n",
       "Hot                            2\n",
       "Test                           1\n",
       "Token Link Sent                1\n",
       "Applicant                      1\n",
       "Name: count, dtype: int64"
      ]
     },
     "metadata": {},
     "output_type": "display_data"
    }
   ],
   "source": [
    "display(df['platform'].value_counts())\n",
    "display(df['lead_stage'].value_counts())\n",
    "display(df['opportunity_status'].value_counts())"
   ]
  },
  {
   "cell_type": "code",
   "execution_count": 23,
   "id": "ef900fb8",
   "metadata": {},
   "outputs": [],
   "source": [
    "df['platform'] = df['platform'].replace({\n",
    "    'ig': 'Instagram',\n",
    "    'fb': 'Facebook',\n",
    "    'an': 'Unknown'\n",
    "})"
   ]
  },
  {
   "cell_type": "code",
   "execution_count": 24,
   "id": "d79e8b16",
   "metadata": {},
   "outputs": [
    {
     "data": {
      "text/plain": [
       "platform\n",
       "Instagram    15575\n",
       "Facebook      2331\n",
       "LinkedIn      1919\n",
       "GoogleAds      182\n",
       "Unknown          1\n",
       "Name: count, dtype: int64"
      ]
     },
     "execution_count": 24,
     "metadata": {},
     "output_type": "execute_result"
    }
   ],
   "source": [
    "df['platform'].value_counts()"
   ]
  },
  {
   "cell_type": "code",
   "execution_count": 27,
   "id": "540b8cb6",
   "metadata": {},
   "outputs": [
    {
     "data": {
      "text/plain": [
       "lead_id                    0.000000\n",
       "created_time               0.000000\n",
       "ad_id                      0.174921\n",
       "campaign_id                0.174921\n",
       "form_id                    0.909591\n",
       "form_name                  0.909591\n",
       "platform                   0.004998\n",
       "name                       0.000000\n",
       "email1                     0.000000\n",
       "phone1                     0.000000\n",
       "graduation_degree          0.000000\n",
       "graduation_percentage      0.864611\n",
       "work_experience            0.000000\n",
       "upload_date               40.951572\n",
       "contacted                 14.108651\n",
       "mapped2                    4.358039\n",
       "lead_stage                 4.358039\n",
       "token_paid                99.715128\n",
       "ad_set_id                 10.505273\n",
       "first_call                14.688390\n",
       "candidate_id              89.384777\n",
       "answered                  14.353541\n",
       "lsq_created_date          58.323754\n",
       "last_call_date            14.063671\n",
       "new_cgpa                  98.490679\n",
       "ug_or_pg_qualification    98.555650\n",
       "work_experience_1         98.775551\n",
       "owner                      4.358039\n",
       "city                      45.689440\n",
       "opportunity_status        68.918986\n",
       "opportunity_mapped         4.912789\n",
       "utm_term                  99.270328\n",
       "status                     5.042731\n",
       "max_call_duration         42.171023\n",
       "dtype: float64"
      ]
     },
     "execution_count": 27,
     "metadata": {},
     "output_type": "execute_result"
    }
   ],
   "source": [
    "df.isnull().sum()/df.shape[0] * 100"
   ]
  },
  {
   "cell_type": "code",
   "execution_count": 30,
   "id": "8a5d29cc",
   "metadata": {},
   "outputs": [],
   "source": [
    "drop_null_cols = ['token_paid','candidate_id','new_cgpa','ug_or_pg_qualification','work_experience_1','utm_term']\n",
    "df.drop(columns = drop_null_cols, inplace=True)"
   ]
  },
  {
   "cell_type": "code",
   "execution_count": 33,
   "id": "4a669ed3",
   "metadata": {},
   "outputs": [],
   "source": [
    "df.rename(columns={\n",
    "    'phone1': 'phone',\n",
    "    'email1':'email'},inplace=True)"
   ]
  },
  {
   "cell_type": "code",
   "execution_count": 35,
   "id": "9b420165",
   "metadata": {},
   "outputs": [],
   "source": [
    "df.drop(columns=['opportunity_status','lsq_created_date'], inplace=True)"
   ]
  },
  {
   "cell_type": "code",
   "execution_count": 39,
   "id": "9fb5eecd",
   "metadata": {},
   "outputs": [
    {
     "data": {
      "text/plain": [
       "array([nan, 'Contacted'], dtype=object)"
      ]
     },
     "execution_count": 39,
     "metadata": {},
     "output_type": "execute_result"
    }
   ],
   "source": [
    "df['contacted'].unique()"
   ]
  },
  {
   "cell_type": "code",
   "execution_count": 40,
   "id": "918a960a",
   "metadata": {},
   "outputs": [],
   "source": [
    "df['contacted'].fillna('Not Contacted', inplace=True)"
   ]
  },
  {
   "cell_type": "code",
   "execution_count": 47,
   "id": "301c297e",
   "metadata": {},
   "outputs": [
    {
     "data": {
      "text/plain": [
       "answered\n",
       "Answered      8898\n",
       "Unanswered    8133\n",
       "unanswered      78\n",
       "answered        28\n",
       "Name: count, dtype: int64"
      ]
     },
     "execution_count": 47,
     "metadata": {},
     "output_type": "execute_result"
    }
   ],
   "source": [
    "df['answered'].value_counts()"
   ]
  },
  {
   "cell_type": "code",
   "execution_count": 48,
   "id": "022b9cdb",
   "metadata": {},
   "outputs": [],
   "source": [
    "df['answered'] = df['answered'].replace('unanswered', 'Unanswered')\n",
    "df['answered'] = df['answered'].replace('answered', 'Answered')"
   ]
  },
  {
   "cell_type": "code",
   "execution_count": 54,
   "id": "7fd1ac2b",
   "metadata": {},
   "outputs": [],
   "source": [
    "mask_answered = df['answered'].isnull() & df['first_call'].notnull()\n",
    "df.loc[mask_answered, 'answered'] = 'Answered'\n",
    "\n",
    "mask_unanswered = df['answered'].isnull() & df['first_call'].isnull()\n",
    "df.loc[mask_unanswered, 'answered'] = 'Unanswered'"
   ]
  },
  {
   "cell_type": "code",
   "execution_count": 55,
   "id": "68934242",
   "metadata": {},
   "outputs": [
    {
     "data": {
      "text/plain": [
       "np.int64(0)"
      ]
     },
     "execution_count": 55,
     "metadata": {},
     "output_type": "execute_result"
    }
   ],
   "source": [
    "df['answered'].isnull().sum()"
   ]
  },
  {
   "cell_type": "code",
   "execution_count": 61,
   "id": "2976c6ce",
   "metadata": {},
   "outputs": [
    {
     "data": {
      "text/plain": [
       "np.int64(9142)"
      ]
     },
     "execution_count": 61,
     "metadata": {},
     "output_type": "execute_result"
    }
   ],
   "source": [
    "df['city'].isnull().sum()"
   ]
  },
  {
   "cell_type": "code",
   "execution_count": 62,
   "id": "4094ad19",
   "metadata": {},
   "outputs": [
    {
     "name": "stderr",
     "output_type": "stream",
     "text": [
      "C:\\Users\\mehta\\AppData\\Local\\Temp\\ipykernel_19244\\357195196.py:1: FutureWarning: A value is trying to be set on a copy of a DataFrame or Series through chained assignment using an inplace method.\n",
      "The behavior will change in pandas 3.0. This inplace method will never work because the intermediate object on which we are setting values always behaves as a copy.\n",
      "\n",
      "For example, when doing 'df[col].method(value, inplace=True)', try using 'df.method({col: value}, inplace=True)' or df[col] = df[col].method(value) instead, to perform the operation inplace on the original object.\n",
      "\n",
      "\n",
      "  df['city'].fillna('Unknown', inplace=True)\n"
     ]
    }
   ],
   "source": [
    "df['city'].fillna('Unknown', inplace=True)"
   ]
  },
  {
   "cell_type": "code",
   "execution_count": 66,
   "id": "86c7760f",
   "metadata": {},
   "outputs": [
    {
     "data": {
      "text/plain": [
       "opportunity_mapped\n",
       "Mapped    19026\n",
       "Name: count, dtype: int64"
      ]
     },
     "execution_count": 66,
     "metadata": {},
     "output_type": "execute_result"
    }
   ],
   "source": [
    "df['opportunity_mapped'].value_counts()"
   ]
  },
  {
   "cell_type": "code",
   "execution_count": 68,
   "id": "7ddb768b",
   "metadata": {},
   "outputs": [
    {
     "name": "stderr",
     "output_type": "stream",
     "text": [
      "C:\\Users\\mehta\\AppData\\Local\\Temp\\ipykernel_19244\\4200857119.py:1: FutureWarning: A value is trying to be set on a copy of a DataFrame or Series through chained assignment using an inplace method.\n",
      "The behavior will change in pandas 3.0. This inplace method will never work because the intermediate object on which we are setting values always behaves as a copy.\n",
      "\n",
      "For example, when doing 'df[col].method(value, inplace=True)', try using 'df.method({col: value}, inplace=True)' or df[col] = df[col].method(value) instead, to perform the operation inplace on the original object.\n",
      "\n",
      "\n",
      "  df['opportunity_mapped'].fillna('Not Mapped', inplace=True)\n"
     ]
    }
   ],
   "source": [
    "df['opportunity_mapped'].fillna('Not Mapped', inplace=True)"
   ]
  },
  {
   "cell_type": "code",
   "execution_count": 71,
   "id": "8ea473b1",
   "metadata": {},
   "outputs": [
    {
     "data": {
      "text/plain": [
       "lead_stage\n",
       "Not Interested              5467\n",
       "Never Picked Up             4188\n",
       "Not Eligible                2676\n",
       "Did Not Enquired            2234\n",
       "Did Not Picked              2101\n",
       "Invalid                      921\n",
       "NaN                          872\n",
       "Call Back Later              527\n",
       "Wrong Number                 269\n",
       "Call Not Connected           258\n",
       "Warm                         177\n",
       "New Enquiry                   93\n",
       "Future Prospect               76\n",
       "Learner Drop                  37\n",
       "Dropped                       25\n",
       "Learner Enrolled              18\n",
       "Offer Letter Released         16\n",
       "Never Picked up               15\n",
       "Interview Cleared              8\n",
       "Invalid phone number           7\n",
       "Test Scheduled                 5\n",
       "Interview Scheduled            4\n",
       "Duplicate Lead                 3\n",
       "Test                           3\n",
       "Hot                            3\n",
       "Token Link Sent                2\n",
       "Cold                           1\n",
       "Fake                           1\n",
       "Waiting for Offer Letter       1\n",
       "Token paid                     1\n",
       "Name: count, dtype: int64"
      ]
     },
     "execution_count": 71,
     "metadata": {},
     "output_type": "execute_result"
    }
   ],
   "source": [
    "df['lead_stage'].value_counts(dropna=False)"
   ]
  },
  {
   "cell_type": "code",
   "execution_count": 70,
   "id": "3e7157fe",
   "metadata": {},
   "outputs": [
    {
     "data": {
      "text/plain": [
       "status\n",
       "Lost    15864\n",
       "Open     3119\n",
       "NaN      1009\n",
       "Won        17\n",
       "Name: count, dtype: int64"
      ]
     },
     "execution_count": 70,
     "metadata": {},
     "output_type": "execute_result"
    }
   ],
   "source": [
    "df['status'].value_counts(dropna=False)"
   ]
  },
  {
   "cell_type": "code",
   "execution_count": 72,
   "id": "11a1292f",
   "metadata": {},
   "outputs": [],
   "source": [
    "lead_stage_map = {\n",
    "    'Lost': [\n",
    "        'Not Interested', 'Never Picked Up', 'Did Not Picked', 'Did Not Enquired',\n",
    "        'Not Eligible', 'Invalid', 'Wrong Number', 'Invalid phone number',\n",
    "        'Fake', 'Dropped', 'Learner Drop', 'Duplicate Lead'\n",
    "    ],\n",
    "    'Open': [\n",
    "        'Call Back Later', 'Warm', 'New Enquiry', 'Future Prospect', 'Call Not Connected',\n",
    "        'Cold', 'Waiting for Offer Letter', 'Hot'\n",
    "    ],\n",
    "    'Won': [\n",
    "        'Learner Enrolled', 'Offer Letter Released', 'Token paid', 'Token Link Sent',\n",
    "        'Interview Cleared', 'Interview Scheduled', 'Test Scheduled', 'Test'\n",
    "    ]\n",
    "}\n",
    "\n",
    "def map_status(row):\n",
    "    if pd.notnull(row['status']):\n",
    "        return row['status']\n",
    "    stage = row['lead_stage']\n",
    "    if pd.isnull(stage):\n",
    "        return 'Lost'\n",
    "    for status, stages in lead_stage_map.items():\n",
    "        if str(stage).strip().lower() in [s.lower() for s in stages]:\n",
    "            return status\n",
    "    return 'Lost'\n",
    "df['status'] = df.apply(map_status, axis=1)"
   ]
  },
  {
   "cell_type": "code",
   "execution_count": 73,
   "id": "601bd3af",
   "metadata": {},
   "outputs": [
    {
     "data": {
      "text/plain": [
       "status\n",
       "Lost    16843\n",
       "Open     3148\n",
       "Won        18\n",
       "Name: count, dtype: int64"
      ]
     },
     "execution_count": 73,
     "metadata": {},
     "output_type": "execute_result"
    }
   ],
   "source": [
    "df['status'].value_counts(dropna=False)"
   ]
  },
  {
   "cell_type": "code",
   "execution_count": 75,
   "id": "3d1953e4",
   "metadata": {},
   "outputs": [
    {
     "data": {
      "text/plain": [
       "mapped2\n",
       "Mapped    19137\n",
       "NaN         872\n",
       "Name: count, dtype: int64"
      ]
     },
     "execution_count": 75,
     "metadata": {},
     "output_type": "execute_result"
    }
   ],
   "source": [
    "df['mapped2'].value_counts(dropna=False)"
   ]
  },
  {
   "cell_type": "code",
   "execution_count": 78,
   "id": "35a5aaed",
   "metadata": {},
   "outputs": [
    {
     "name": "stderr",
     "output_type": "stream",
     "text": [
      "C:\\Users\\mehta\\AppData\\Local\\Temp\\ipykernel_19244\\1899782785.py:1: FutureWarning: A value is trying to be set on a copy of a DataFrame or Series through chained assignment using an inplace method.\n",
      "The behavior will change in pandas 3.0. This inplace method will never work because the intermediate object on which we are setting values always behaves as a copy.\n",
      "\n",
      "For example, when doing 'df[col].method(value, inplace=True)', try using 'df.method({col: value}, inplace=True)' or df[col] = df[col].method(value) instead, to perform the operation inplace on the original object.\n",
      "\n",
      "\n",
      "  df['mapped2'].fillna('Not Mapped', inplace=True)\n"
     ]
    }
   ],
   "source": [
    "df['mapped2'].fillna('Not Mapped', inplace=True)"
   ]
  },
  {
   "cell_type": "code",
   "execution_count": 80,
   "id": "9371e030",
   "metadata": {},
   "outputs": [],
   "source": [
    "df.rename(columns={\n",
    "    'mapped2': 'mapped'},inplace=True)"
   ]
  },
  {
   "cell_type": "code",
   "execution_count": 82,
   "id": "3c8935f1",
   "metadata": {},
   "outputs": [
    {
     "data": {
      "text/plain": [
       "lead_stage\n",
       "Not Interested              5467\n",
       "Never Picked Up             4188\n",
       "Not Eligible                2676\n",
       "Did Not Enquired            2234\n",
       "Did Not Picked              2101\n",
       "Invalid                      921\n",
       "NaN                          872\n",
       "Call Back Later              527\n",
       "Wrong Number                 269\n",
       "Call Not Connected           258\n",
       "Warm                         177\n",
       "New Enquiry                   93\n",
       "Future Prospect               76\n",
       "Learner Drop                  37\n",
       "Dropped                       25\n",
       "Learner Enrolled              18\n",
       "Offer Letter Released         16\n",
       "Never Picked up               15\n",
       "Interview Cleared              8\n",
       "Invalid phone number           7\n",
       "Test Scheduled                 5\n",
       "Interview Scheduled            4\n",
       "Duplicate Lead                 3\n",
       "Test                           3\n",
       "Hot                            3\n",
       "Token Link Sent                2\n",
       "Cold                           1\n",
       "Fake                           1\n",
       "Waiting for Offer Letter       1\n",
       "Token paid                     1\n",
       "Name: count, dtype: int64"
      ]
     },
     "execution_count": 82,
     "metadata": {},
     "output_type": "execute_result"
    }
   ],
   "source": [
    "df['lead_stage'].value_counts(dropna=False)"
   ]
  },
  {
   "cell_type": "code",
   "execution_count": 83,
   "id": "7234e3d2",
   "metadata": {},
   "outputs": [
    {
     "name": "stderr",
     "output_type": "stream",
     "text": [
      "C:\\Users\\mehta\\AppData\\Local\\Temp\\ipykernel_19244\\3004834486.py:1: FutureWarning: A value is trying to be set on a copy of a DataFrame or Series through chained assignment using an inplace method.\n",
      "The behavior will change in pandas 3.0. This inplace method will never work because the intermediate object on which we are setting values always behaves as a copy.\n",
      "\n",
      "For example, when doing 'df[col].method(value, inplace=True)', try using 'df.method({col: value}, inplace=True)' or df[col] = df[col].method(value) instead, to perform the operation inplace on the original object.\n",
      "\n",
      "\n",
      "  df['lead_stage'].fillna('Invalid',inplace=True)\n"
     ]
    }
   ],
   "source": [
    "df['lead_stage'].fillna('Invalid',inplace=True)"
   ]
  },
  {
   "cell_type": "code",
   "execution_count": 84,
   "id": "43b6859c",
   "metadata": {},
   "outputs": [
    {
     "name": "stderr",
     "output_type": "stream",
     "text": [
      "C:\\Users\\mehta\\AppData\\Local\\Temp\\ipykernel_19244\\3958497433.py:1: FutureWarning: A value is trying to be set on a copy of a DataFrame or Series through chained assignment using an inplace method.\n",
      "The behavior will change in pandas 3.0. This inplace method will never work because the intermediate object on which we are setting values always behaves as a copy.\n",
      "\n",
      "For example, when doing 'df[col].method(value, inplace=True)', try using 'df.method({col: value}, inplace=True)' or df[col] = df[col].method(value) instead, to perform the operation inplace on the original object.\n",
      "\n",
      "\n",
      "  df['owner'].fillna('Not Assigned', inplace=True)\n"
     ]
    }
   ],
   "source": [
    "df['owner'].fillna('Not Assigned', inplace=True)"
   ]
  },
  {
   "cell_type": "code",
   "execution_count": 85,
   "id": "f8efaf2e",
   "metadata": {},
   "outputs": [
    {
     "data": {
      "text/plain": [
       "lead_id                   0.000000\n",
       "created_time              0.000000\n",
       "ad_id                     0.174921\n",
       "campaign_id               0.174921\n",
       "form_id                   0.909591\n",
       "form_name                 0.909591\n",
       "platform                  0.004998\n",
       "name                      0.000000\n",
       "email                     0.000000\n",
       "phone                     0.000000\n",
       "graduation_degree         0.000000\n",
       "graduation_percentage     0.864611\n",
       "work_experience           0.000000\n",
       "upload_date              40.951572\n",
       "contacted                 0.000000\n",
       "mapped                    0.000000\n",
       "lead_stage                0.000000\n",
       "ad_set_id                10.505273\n",
       "first_call               14.688390\n",
       "answered                  0.000000\n",
       "last_call_date           14.063671\n",
       "owner                     0.000000\n",
       "city                      0.000000\n",
       "opportunity_mapped        0.000000\n",
       "status                    0.000000\n",
       "max_call_duration        42.171023\n",
       "dtype: float64"
      ]
     },
     "execution_count": 85,
     "metadata": {},
     "output_type": "execute_result"
    }
   ],
   "source": [
    "df.isnull().sum()/df.shape[0] * 100"
   ]
  }
 ],
 "metadata": {
  "kernelspec": {
   "display_name": "Python 3",
   "language": "python",
   "name": "python3"
  },
  "language_info": {
   "codemirror_mode": {
    "name": "ipython",
    "version": 3
   },
   "file_extension": ".py",
   "mimetype": "text/x-python",
   "name": "python",
   "nbconvert_exporter": "python",
   "pygments_lexer": "ipython3",
   "version": "3.13.5"
  }
 },
 "nbformat": 4,
 "nbformat_minor": 5
}
